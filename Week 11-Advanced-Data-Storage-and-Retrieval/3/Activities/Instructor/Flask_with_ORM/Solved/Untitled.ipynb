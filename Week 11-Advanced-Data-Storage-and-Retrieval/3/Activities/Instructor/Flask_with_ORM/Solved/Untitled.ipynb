{
 "cells": [
  {
   "cell_type": "code",
   "execution_count": 1,
   "metadata": {},
   "outputs": [],
   "source": [
    "# import numpy as np\n",
    "from werkzeug.wrappers import Request, Response\n",
    "# import sqlalchemy\n",
    "# from sqlalchemy.ext.automap import automap_base\n",
    "# from sqlalchemy.orm import Session\n",
    "# from sqlalchemy import create_engine, func\n",
    "\n",
    "from flask import Flask, jsonify"
   ]
  },
  {
   "cell_type": "code",
   "execution_count": 2,
   "metadata": {},
   "outputs": [],
   "source": [
    "#################################################\n",
    "# # Database Setup\n",
    "# #################################################\n",
    "# engine = create_engine(\"sqlite:///titanic.sqlite\")\n",
    "\n",
    "# # reflect an existing database into a new model\n",
    "# Base = automap_base()\n",
    "# # reflect the tables\n",
    "# Base.prepare(engine, reflect=True)\n",
    "\n",
    "# # Save reference to the table\n",
    "# Passenger = Base.classes.passenger"
   ]
  },
  {
   "cell_type": "code",
   "execution_count": 3,
   "metadata": {},
   "outputs": [],
   "source": [
    "# Create our session (link) from Python to the DB\n",
    "# session = Session(engine)\n",
    "\n",
    "#################################################\n",
    "# Flask Setup\n",
    "#################################################\n",
    "app = Flask(__name__)"
   ]
  },
  {
   "cell_type": "code",
   "execution_count": 4,
   "metadata": {},
   "outputs": [],
   "source": [
    "# #################################################\n",
    "# # Flask Routes\n",
    "# #################################################\n",
    "\n",
    "# @app.route(\"/\")\n",
    "# def welcome():\n",
    "#     \"\"\"List all available api routes.\"\"\"\n",
    "#     return (\n",
    "#         f\"Available Routes:<br/>\"\n",
    "#         f\"/api/v1.0/names<br/>\"\n",
    "#         f\"/api/v1.0/passengers\"\n",
    "#     )\n",
    "\n",
    "\n",
    "# @app.route(\"/api/v1.0/names\")\n",
    "# def names():\n",
    "#     \"\"\"Return a list of all passenger names\"\"\"\n",
    "# #     # Query all passengers\n",
    "# #     results = session.query(Passenger.name).all()\n",
    "\n",
    "# #     # Convert list of tuples into normal list\n",
    "# # #     all_names = list(np.ravel(results))\n",
    "# #     print(\"Before:\", results)\n",
    "# #     all_names = list(np.ravel(results))\n",
    "    \n",
    "# #     print(\"after\", all_names)\n",
    "#     return (\"<h1>you made it</h1>\", \"<h2>test</h2>\")"
   ]
  },
  {
   "cell_type": "code",
   "execution_count": 5,
   "metadata": {},
   "outputs": [],
   "source": [
    "# @app.route(\"/api/v1.0/passengers\")\n",
    "# def passengers():\n",
    "#     \"\"\"Return a list of passenger data including the name, age, and sex of each passenger\"\"\"\n",
    "#     # Query all passengers\n",
    "#     results = session.query(Passenger).all()\n",
    "\n",
    "#     # Create a dictionary from the row data and append to a list of all_passengers\n",
    "#     all_passengers = []\n",
    "#     for passenger in results:\n",
    "#         passenger_dict = {}\n",
    "#         passenger_dict[\"name\"] = passenger.name\n",
    "#         passenger_dict[\"age\"] = passenger.age\n",
    "#         passenger_dict[\"sex\"] = passenger.sex\n",
    "#         all_passengers.append(passenger_dict)\n",
    "\n",
    "#     return jsonify(all_passengers)"
   ]
  },
  {
   "cell_type": "code",
   "execution_count": 6,
   "metadata": {},
   "outputs": [],
   "source": [
    "hello_dict = {\"Hello\": \"World!\"}\n",
    "\n",
    "\n",
    "@app.route(\"/\")\n",
    "def home():\n",
    "    return \"Hi\"\n",
    "\n",
    "\n",
    "@app.route(\"/normal\")\n",
    "def normal():\n",
    "    return \"<h1 style='color:red'> hello_dict</h1>\"\n",
    "\n",
    "\n",
    "@app.route(\"/jsonified\")\n",
    "def jsonified():\n",
    "    return jsonify(hello_dict)"
   ]
  },
  {
   "cell_type": "code",
   "execution_count": null,
   "metadata": {},
   "outputs": [
    {
     "name": "stderr",
     "output_type": "stream",
     "text": [
      " * Running on http://localhost:5000/ (Press CTRL+C to quit)\n",
      "127.0.0.1 - - [27/Aug/2018 21:00:49] \"GET /normal HTTP/1.1\" 200 -\n",
      "127.0.0.1 - - [27/Aug/2018 21:01:47] \"GET /jsonified HTTP/1.1\" 200 -\n"
     ]
    }
   ],
   "source": [
    "if __name__ == '__main__':\n",
    "#     app.run(debug=True)\n",
    "    from werkzeug.serving import run_simple\n",
    "    run_simple('localhost', 5000, app)"
   ]
  }
 ],
 "metadata": {
  "kernelspec": {
   "display_name": "Python 3",
   "language": "python",
   "name": "python3"
  },
  "language_info": {
   "codemirror_mode": {
    "name": "ipython",
    "version": 3
   },
   "file_extension": ".py",
   "mimetype": "text/x-python",
   "name": "python",
   "nbconvert_exporter": "python",
   "pygments_lexer": "ipython3",
   "version": "3.6.6"
  }
 },
 "nbformat": 4,
 "nbformat_minor": 2
}
