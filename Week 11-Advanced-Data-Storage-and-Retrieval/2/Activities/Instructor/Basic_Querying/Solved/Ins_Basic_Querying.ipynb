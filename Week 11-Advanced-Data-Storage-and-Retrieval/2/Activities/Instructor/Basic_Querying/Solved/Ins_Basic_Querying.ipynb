{
 "cells": [
  {
   "cell_type": "code",
   "execution_count": 1,
   "metadata": {},
   "outputs": [],
   "source": [
    "from sqlalchemy import create_engine\n",
    "from sqlalchemy import Column, Integer, String, Float\n",
    "\n",
    "from sqlalchemy.ext.declarative import declarative_base\n",
    "Base = declarative_base()"
   ]
  },
  {
   "cell_type": "code",
   "execution_count": 2,
   "metadata": {},
   "outputs": [],
   "source": [
    "class BaseballPlayer(Base):\n",
    "  __tablename__ = \"player\"\n",
    "  player_id = Column(String, primary_key=True)\n",
    "  birth_year = Column(Integer)\n",
    "  birth_month = Column(Integer)\n",
    "  birth_day = Column(Integer)\n",
    "  birth_country = Column(String)\n",
    "  birth_state = Column(String)\n",
    "  birth_city = Column(String)\n",
    "  name_first = Column(String)\n",
    "  name_last = Column(String)\n",
    "  name_given = Column(String)\n",
    "  weight = Column(Integer)\n",
    "  height = Column(Integer)\n",
    "  bats = Column(String)\n",
    "  throws = Column(String)\n",
    "  debut = Column(String)\n",
    "  final_game = Column(String)"
   ]
  },
  {
   "cell_type": "code",
   "execution_count": 3,
   "metadata": {},
   "outputs": [],
   "source": [
    "# Create Database Connection\n",
    "engine = create_engine('sqlite:///../Resources/database.sqlite')\n",
    "Base.metadata.create_all(engine)"
   ]
  },
  {
   "cell_type": "code",
   "execution_count": 4,
   "metadata": {},
   "outputs": [],
   "source": [
    "from sqlalchemy.orm import Session\n",
    "session = Session(bind=engine)"
   ]
  },
  {
   "cell_type": "code",
   "execution_count": 6,
   "metadata": {},
   "outputs": [],
   "source": [
    "# Print all of the player names in the database\n",
    "players = session.query(BaseballPlayer)\n",
    "for player in players:\n",
    "  print(player.name_given)"
   ]
  },
  {
   "cell_type": "code",
   "execution_count": 6,
   "metadata": {},
   "outputs": [
    {
     "name": "stdout",
     "output_type": "stream",
     "text": [
      "There are 16504 players from the USA\n"
     ]
    }
   ],
   "source": [
    "# Find the number of players from the USA\n",
    "usa = session.query(BaseballPlayer).\\\n",
    "    filter(BaseballPlayer.birth_country == 'USA').count()\n",
    "print(\"There are {} players from the USA\".format(usa))"
   ]
  },
  {
   "cell_type": "code",
   "execution_count": 7,
   "metadata": {},
   "outputs": [
    {
     "name": "stdout",
     "output_type": "stream",
     "text": [
      "18335 players were born before 1990\n"
     ]
    }
   ],
   "source": [
    "# Find those players who were born before 1990\n",
    "born_before_1990 = session.query(BaseballPlayer).\\\n",
    "    filter(BaseballPlayer.birth_year < 1990).count()\n",
    "    \n",
    "print(\"{} players were born before 1990\".format(born_before_1990))"
   ]
  },
  {
   "cell_type": "code",
   "execution_count": 8,
   "metadata": {},
   "outputs": [
    {
     "name": "stdout",
     "output_type": "stream",
     "text": [
      "300 USA players were born after 1989\n"
     ]
    }
   ],
   "source": [
    "# Find those players from the USA who were born after 1989\n",
    "born_after_1989 = session.query(BaseballPlayer).\\\n",
    "    filter(BaseballPlayer.birth_year > 1989).filter(BaseballPlayer.birth_country == \"USA\").\\\n",
    "    count()\n",
    "print(\"{} USA players were born after 1989\".format(born_after_1989))"
   ]
  }
 ],
 "metadata": {
  "kernelspec": {
   "display_name": "Python 3",
   "language": "python",
   "name": "python3"
  },
  "language_info": {
   "codemirror_mode": {
    "name": "ipython",
    "version": 3
   },
   "file_extension": ".py",
   "mimetype": "text/x-python",
   "name": "python",
   "nbconvert_exporter": "python",
   "pygments_lexer": "ipython3",
   "version": "3.6.6"
  },
  "varInspector": {
   "cols": {
    "lenName": 16,
    "lenType": 16,
    "lenVar": 40
   },
   "kernels_config": {
    "python": {
     "delete_cmd_postfix": "",
     "delete_cmd_prefix": "del ",
     "library": "var_list.py",
     "varRefreshCmd": "print(var_dic_list())"
    },
    "r": {
     "delete_cmd_postfix": ") ",
     "delete_cmd_prefix": "rm(",
     "library": "var_list.r",
     "varRefreshCmd": "cat(var_dic_list()) "
    }
   },
   "types_to_exclude": [
    "module",
    "function",
    "builtin_function_or_method",
    "instance",
    "_Feature"
   ],
   "window_display": false
  }
 },
 "nbformat": 4,
 "nbformat_minor": 2
}
