{
 "cells": [
  {
   "cell_type": "code",
   "execution_count": 46,
   "metadata": {
    "collapsed": true
   },
   "outputs": [],
   "source": [
    "# Define the Surfer Class\n",
    "class Surfer():\n",
    "    \n",
    "    surfer_count=0\n",
    "    \n",
    "    # Utilize the Python constructor to initialize the object\n",
    "    def __init__(self, name, hometown,rank,wipeouts,surfer_count):\n",
    "        self.name = name\n",
    "        self.hometown = hometown\n",
    "        self.rank=rank\n",
    "        self.wipeouts=wipeouts\n",
    "        self.surfer_count=surfer_count\n",
    "        surfer_count+=1\n",
    "    \n",
    "    # A required function to initialize the class object\n",
    "    def speak(self):\n",
    "        print(\"hang loose\")\n",
    "\n",
    "    # A method that takes another object as its argument\n",
    "    def bio(self):\n",
    "        print(self.name,self.hometown)\n",
    "\n",
    "    # A method that takes another object as its argument\n",
    "    def cheer(self):\n",
    "        if self.wipeouts==0:\n",
    "            print(\"I totally rock, man.\")\n",
    "        else:\n",
    "            print(\"Bummer, bruh...\")\n",
    "        "
   ]
  },
  {
   "cell_type": "code",
   "execution_count": 47,
   "metadata": {},
   "outputs": [],
   "source": [
    "# Create Surfers\n",
    "# Create an instance of the Surfer Class\n",
    "surfer = Surfer('The Dude', 'LA',1,3,53)\n",
    "\n",
    "# -------------------------------------------------\n"
   ]
  },
  {
   "cell_type": "code",
   "execution_count": 48,
   "metadata": {},
   "outputs": [
    {
     "name": "stdout",
     "output_type": "stream",
     "text": [
      "The Dude LA\n"
     ]
    }
   ],
   "source": [
    "surfer.bio()"
   ]
  },
  {
   "cell_type": "code",
   "execution_count": 49,
   "metadata": {},
   "outputs": [
    {
     "name": "stdout",
     "output_type": "stream",
     "text": [
      "Bummer, bruh...\n"
     ]
    }
   ],
   "source": [
    "surfer.cheer()"
   ]
  },
  {
   "cell_type": "code",
   "execution_count": 50,
   "metadata": {},
   "outputs": [
    {
     "name": "stdout",
     "output_type": "stream",
     "text": [
      "hang loose\n"
     ]
    }
   ],
   "source": [
    "surfer.speak()"
   ]
  },
  {
   "cell_type": "code",
   "execution_count": null,
   "metadata": {},
   "outputs": [],
   "source": []
  }
 ],
 "metadata": {
  "kernelspec": {
   "display_name": "Python 3",
   "language": "python",
   "name": "python3"
  },
  "language_info": {
   "codemirror_mode": {
    "name": "ipython",
    "version": 3
   },
   "file_extension": ".py",
   "mimetype": "text/x-python",
   "name": "python",
   "nbconvert_exporter": "python",
   "pygments_lexer": "ipython3",
   "version": "3.6.6"
  },
  "varInspector": {
   "cols": {
    "lenName": 16,
    "lenType": 16,
    "lenVar": 40
   },
   "kernels_config": {
    "python": {
     "delete_cmd_postfix": "",
     "delete_cmd_prefix": "del ",
     "library": "var_list.py",
     "varRefreshCmd": "print(var_dic_list())"
    },
    "r": {
     "delete_cmd_postfix": ") ",
     "delete_cmd_prefix": "rm(",
     "library": "var_list.r",
     "varRefreshCmd": "cat(var_dic_list()) "
    }
   },
   "types_to_exclude": [
    "module",
    "function",
    "builtin_function_or_method",
    "instance",
    "_Feature"
   ],
   "window_display": false
  }
 },
 "nbformat": 4,
 "nbformat_minor": 2
}
