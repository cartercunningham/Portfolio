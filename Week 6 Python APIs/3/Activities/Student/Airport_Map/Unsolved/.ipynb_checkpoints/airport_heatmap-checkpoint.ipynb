{
 "cells": [
  {
   "cell_type": "code",
   "execution_count": 1,
   "metadata": {},
   "outputs": [],
   "source": [
    "import gmaps\n",
    "import pandas as pd\n",
    "from config import gkey\n",
    "\n",
    "# Configure gmaps\n",
    "import gmaps\n"
   ]
  },
  {
   "cell_type": "code",
   "execution_count": 9,
   "metadata": {},
   "outputs": [
    {
     "data": {
      "text/plain": [
       "Unnamed: 0           int64\n",
       "City                object\n",
       "State               object\n",
       "Lat                float64\n",
       "Lng                float64\n",
       "Airport Name        object\n",
       "Airport Address     object\n",
       "Airport Rating     float64\n",
       "dtype: object"
      ]
     },
     "execution_count": 9,
     "metadata": {},
     "output_type": "execute_result"
    }
   ],
   "source": [
    "# Create aiport dataframe\n",
    "airport_df=pd.read_csv(\"../Resources/Airport_Output.csv\")\n",
    "airport_df.dtypes\n"
   ]
  },
  {
   "cell_type": "code",
   "execution_count": 22,
   "metadata": {},
   "outputs": [
    {
     "data": {
      "application/vnd.jupyter.widget-view+json": {
       "model_id": "51d7e75f3e524dabb1cee2f27b2d28a2",
       "version_major": 2,
       "version_minor": 0
      },
      "text/plain": [
       "Figure(layout=FigureLayout(height='420px'))"
      ]
     },
     "metadata": {},
     "output_type": "display_data"
    }
   ],
   "source": [
    "# Store latitude and longitude in locations\n",
    "locations=airport_df[[\"Lat\",\"Lng\"]]\n",
    "\n",
    "# Filla NaN values and convert to float\n",
    "airport_df.head()\n",
    "rating=airport_df[\"Airport Rating\"].astype(\"float\")\n",
    "\n",
    "fig=gmaps.figure(map_type=\"HYBRID\")\n",
    "\n",
    "heat_layer=gmaps.heatmap_layer(locations,weights=rating,max_intensity=10)\n",
    "\n",
    "fig.add_layer(heat_layer)\n",
    "fig"
   ]
  },
  {
   "cell_type": "code",
   "execution_count": 4,
   "metadata": {},
   "outputs": [],
   "source": [
    "# Plot Heatmap\n"
   ]
  },
  {
   "cell_type": "code",
   "execution_count": null,
   "metadata": {},
   "outputs": [],
   "source": []
  }
 ],
 "metadata": {
  "kernelspec": {
   "display_name": "Python 3",
   "language": "python",
   "name": "python3"
  },
  "language_info": {
   "codemirror_mode": {
    "name": "ipython",
    "version": 3
   },
   "file_extension": ".py",
   "mimetype": "text/x-python",
   "name": "python",
   "nbconvert_exporter": "python",
   "pygments_lexer": "ipython3",
   "version": "3.6.5"
  }
 },
 "nbformat": 4,
 "nbformat_minor": 2
}
