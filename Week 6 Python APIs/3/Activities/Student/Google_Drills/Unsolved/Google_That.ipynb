{
 "cells": [
  {
   "cell_type": "code",
   "execution_count": 1,
   "metadata": {},
   "outputs": [],
   "source": [
    "# Create code to answer each of the following questions.\n",
    "# Hint: You will need multiple target URLs and multiple API requests.\n",
    "\n",
    "# Dependencies\n",
    "import requests\n",
    "import json\n",
    "\n",
    "# Retrieve Google API key from config.py\n",
    "from config import gkey\n"
   ]
  },
  {
   "cell_type": "code",
   "execution_count": 2,
   "metadata": {},
   "outputs": [
    {
     "name": "stdout",
     "output_type": "stream",
     "text": [
      "Seattle, Washington: 47.6062095, -122.3320708\n"
     ]
    }
   ],
   "source": [
    "# 1. What are the geocoordinates (latitude/longitude) of Seattle, Washington?\n",
    "target_city = \"Seattle, Washington\"\n",
    "target_url = \"https://maps.googleapis.com/maps/api/geocode/json?\" \\\n",
    "   \"address=%s&key=%s\" % (target_city, gkey)\n",
    "geo_data = requests.get(target_url).json()\n",
    "\n",
    "lat = geo_data[\"results\"][0][\"geometry\"][\"location\"][\"lat\"]\n",
    "lng = geo_data[\"results\"][0][\"geometry\"][\"location\"][\"lng\"]\n",
    "\n",
    "print(\"%s: %s, %s\" % (target_city, lat, lng))\n"
   ]
  },
  {
   "cell_type": "code",
   "execution_count": 8,
   "metadata": {
    "collapsed": true
   },
   "outputs": [
    {
     "name": "stdout",
     "output_type": "stream",
     "text": [
      "{\n",
      "    \"html_attributions\": [],\n",
      "    \"results\": [\n",
      "        {\n",
      "            \"formatted_address\": \"1600 Pennsylvania Ave NW, Washington, DC 20500, USA\",\n",
      "            \"geometry\": {\n",
      "                \"location\": {\n",
      "                    \"lat\": 38.8976763,\n",
      "                    \"lng\": -77.0365298\n",
      "                },\n",
      "                \"viewport\": {\n",
      "                    \"northeast\": {\n",
      "                        \"lat\": 38.90148105,\n",
      "                        \"lng\": -77.03520012010728\n",
      "                    },\n",
      "                    \"southwest\": {\n",
      "                        \"lat\": 38.89640805000001,\n",
      "                        \"lng\": -77.03789977989273\n",
      "                    }\n",
      "                }\n",
      "            },\n",
      "            \"icon\": \"https://maps.gstatic.com/mapfiles/place_api/icons/civic_building-71.png\",\n",
      "            \"id\": \"961fbdc3bf1fb3969cbf6421e9ebde0d837b8496\",\n",
      "            \"name\": \"The White House\",\n",
      "            \"photos\": [\n",
      "                {\n",
      "                    \"height\": 2304,\n",
      "                    \"html_attributions\": [\n",
      "                        \"<a href=\\\"https://maps.google.com/maps/contrib/116822961995141522830/photos\\\">Ehsan Dadvar</a>\"\n",
      "                    ],\n",
      "                    \"photo_reference\": \"CmRaAAAAbhhWKUNYrGYrUbJCysLjA27H1Bl0-yFAzemW7HUt8wPAHxFR8r4QOtOFm2LcDtc-_dqlENOcoERtBSMRXf0lhmkwZkh5l-lhOyZGFgMKlh3MMFFqxYAHYuinFmKE4dDAEhBXzRo5vPJvcccNgrG_99wKGhTxTPr1phUvy2FFRHupsRuKnMR9Yg\",\n",
      "                    \"width\": 3456\n",
      "                }\n",
      "            ],\n",
      "            \"place_id\": \"ChIJ37HL3ry3t4kRv3YLbdhpWXE\",\n",
      "            \"plus_code\": {\n",
      "                \"compound_code\": \"VXX7+39 Washington, District of Columbia\",\n",
      "                \"global_code\": \"87C4VXX7+39\"\n",
      "            },\n",
      "            \"rating\": 4.1,\n",
      "            \"reference\": \"CmRbAAAA5u6S0334Cb2CyTaoe18HvdVbJrka8KLmnER4R59USRGOx_E9JhuEkVh8rds9yRZ9NvP7E11V7TV2PASeiRB-q3DTEQJAZBNXJg1i5xvVXREZF-36XJMW3RBQ-vDUr29yEhAynCuEFBshX9jiDfbB1J_nGhRLiLsp4Quyi1gM81htzyOVVvZiAA\",\n",
      "            \"types\": [\n",
      "                \"point_of_interest\",\n",
      "                \"establishment\"\n",
      "            ]\n",
      "        }\n",
      "    ],\n",
      "    \"status\": \"OK\"\n",
      "}\n"
     ]
    }
   ],
   "source": [
    "# 2. What are the geocoordinates (latitude/longitude) of The White House?\n",
    "target_city = \"The+White+House\"\n",
    "target_url = \"https://maps.googleapis.com/maps/api/place/textsearch/json?query=%s&key=%s\" % (target_city, gkey)\n",
    "\n",
    "geo_data = requests.get(target_url).json()\n",
    "geo_data\n",
    "print(json.dumps(geo_data, indent=4, sort_keys=True))\n",
    "lat = geo_data[\"results\"][0][\"geometry\"][\"location\"][\"lat\"]\n",
    "lng = geo_data[\"results\"][0][\"geometry\"][\"location\"][\"lng\"]"
   ]
  },
  {
   "cell_type": "code",
   "execution_count": 19,
   "metadata": {},
   "outputs": [
    {
     "name": "stdout",
     "output_type": "stream",
     "text": [
      "{\n",
      "    \"html_attributions\": [],\n",
      "    \"results\": [],\n",
      "    \"status\": \"INVALID_REQUEST\"\n",
      "}\n"
     ]
    }
   ],
   "source": [
    "# 3. Find the name and address of a bike store in Seattle, Washington.\n",
    "#    Hint: See https://developers.google.com/places/web-service/supported_types\n",
    "yo=\"%s: %s, %s\" % (target_city, lat, lng)\n",
    "target_coordinates = yo\n",
    "target_search = \"Bike\"\n",
    "target_radius = 8000\n",
    "target_type = \"Store\"\n",
    "\n",
    "# set up a parameters dictionary\n",
    "params = {\n",
    "    \"location\": target_coordinates,\n",
    "    \"keyword\": target_search,\n",
    "    \"radius\": target_radius,\n",
    "    \"type\": target_type,\n",
    "    \"key\": gkey\n",
    "}\n",
    "\n",
    "# base url\n",
    "base_url = \"https://maps.googleapis.com/maps/api/place/nearbysearch/json\"\n",
    "\n",
    "# run a request using our params dictionary\n",
    "response = requests.get(base_url, params=params).json()\n",
    "\n",
    "print(json.dumps(response, indent=4, sort_keys=True))"
   ]
  },
  {
   "cell_type": "code",
   "execution_count": 21,
   "metadata": {},
   "outputs": [
    {
     "name": "stdout",
     "output_type": "stream",
     "text": [
      "Conte's Bike Shop\n",
      "1331 4th St SE #107, Washington\n",
      "----------------------------------\n",
      "BicycleSPACE- Downtown\n",
      "440 K St NW, Washington\n",
      "----------------------------------\n",
      "Trek Bicycle Arlington Clarendon\n",
      "2731 Wilson Blvd, Arlington\n"
     ]
    }
   ],
   "source": [
    "# 4. Find a balloon store near the White House.\n",
    "\n",
    "target_coordinates = \"38.8976763, -77.0365298\"\n",
    "target_search = \"bike\"\n",
    "target_radius = 8000\n",
    "target_type = \"store\"\n",
    "\n",
    "# set up a parameters dictionary\n",
    "params = {\n",
    "   \"location\": target_coordinates,\n",
    "   \"keyword\": target_search,\n",
    "   \"radius\": target_radius,\n",
    "   \"type\": target_type,\n",
    "   \"key\": gkey\n",
    "}\n",
    "\n",
    "# base url\n",
    "base_url = \"https://maps.googleapis.com/maps/api/place/nearbysearch/json\"\n",
    "\n",
    "# run a request using our params dictionary\n",
    "response = requests.get(base_url, params=params)\n",
    "\n",
    "# convert response to json\n",
    "places_data = response.json()\n",
    "\n",
    "# Print the name and address of the first restaurant that appears\n",
    "print(places_data[\"results\"][0][\"name\"])\n",
    "print(places_data[\"results\"][0][\"vicinity\"])\n",
    "print('----------------------------------')\n",
    "print(places_data[\"results\"][1][\"name\"])\n",
    "print(places_data[\"results\"][1][\"vicinity\"])\n",
    "print('----------------------------------')\n",
    "print(places_data[\"results\"][2][\"name\"])\n",
    "print(places_data[\"results\"][2][\"vicinity\"])"
   ]
  },
  {
   "cell_type": "code",
   "execution_count": 6,
   "metadata": {},
   "outputs": [],
   "source": [
    "# 5. Find the nearest dentist to your house.\n",
    "#    Hint: Use Google Maps to find your latitude and Google Places to find the\n",
    "#    dentist. You will also need the rankby property."
   ]
  },
  {
   "cell_type": "code",
   "execution_count": 7,
   "metadata": {},
   "outputs": [],
   "source": [
    "# 6. Bonus: Find the names and addresses of the top five restaurants in your home city.\n",
    "#    Hint: Read about \"Text Search Results\"\n",
    "# (https://developers.google.com/places/web-service/search#TextSearchRequests)"
   ]
  }
 ],
 "metadata": {
  "kernelspec": {
   "display_name": "Python 3",
   "language": "python",
   "name": "python3"
  },
  "language_info": {
   "codemirror_mode": {
    "name": "ipython",
    "version": 3
   },
   "file_extension": ".py",
   "mimetype": "text/x-python",
   "name": "python",
   "nbconvert_exporter": "python",
   "pygments_lexer": "ipython3",
   "version": "3.6.5"
  }
 },
 "nbformat": 4,
 "nbformat_minor": 2
}
