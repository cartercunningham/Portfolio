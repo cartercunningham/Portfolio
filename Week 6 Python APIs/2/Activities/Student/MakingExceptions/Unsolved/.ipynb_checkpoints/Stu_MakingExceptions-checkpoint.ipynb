{
 "cells": [
  {
   "cell_type": "code",
   "execution_count": 3,
   "metadata": {},
   "outputs": [
    {
     "name": "stdout",
     "output_type": "stream",
     "text": [
      "Can't divide by zero.\n"
     ]
    },
    {
     "ename": "ValueError",
     "evalue": "invalid literal for int() with base 10: 'Gabriel'",
     "output_type": "error",
     "traceback": [
      "\u001b[1;31m---------------------------------------------------------------------------\u001b[0m",
      "\u001b[1;31mValueError\u001b[0m                                Traceback (most recent call last)",
      "\u001b[1;32m<ipython-input-3-acdf1f9044b0>\u001b[0m in \u001b[0;36m<module>\u001b[1;34m()\u001b[0m\n\u001b[0;32m     14\u001b[0m     \u001b[1;33m(\u001b[0m\u001b[1;34m\"Don't know that name...\"\u001b[0m\u001b[1;33m)\u001b[0m\u001b[1;33m\u001b[0m\u001b[0m\n\u001b[0;32m     15\u001b[0m \u001b[1;33m\u001b[0m\u001b[0m\n\u001b[1;32m---> 16\u001b[1;33m \u001b[0mprint\u001b[0m\u001b[1;33m(\u001b[0m\u001b[1;34m\"Your name is a nonsense number. Look: \"\u001b[0m \u001b[1;33m+\u001b[0m \u001b[0mint\u001b[0m\u001b[1;33m(\u001b[0m\u001b[1;34m\"Gabriel\"\u001b[0m\u001b[1;33m)\u001b[0m\u001b[1;33m)\u001b[0m\u001b[1;33m\u001b[0m\u001b[0m\n\u001b[0m\u001b[0;32m     17\u001b[0m \u001b[1;33m\u001b[0m\u001b[0m\n\u001b[0;32m     18\u001b[0m \u001b[0mprint\u001b[0m\u001b[1;33m(\u001b[0m\u001b[1;34m\"You made it through the gauntlet--the message survived!\"\u001b[0m\u001b[1;33m)\u001b[0m\u001b[1;33m\u001b[0m\u001b[0m\n",
      "\u001b[1;31mValueError\u001b[0m: invalid literal for int() with base 10: 'Gabriel'"
     ]
    }
   ],
   "source": [
    "# Your assignment is to get the last line to print without changing any\n",
    "# of the code below. Instead, wrap each line that throws an error in a\n",
    "# try/except block.\n",
    "\n",
    "try:\n",
    "    print(\"Infinity looks like + \" + str(10 / 0) + \".\")\n",
    "\n",
    "except ZeroDivisionError:\n",
    "    print(\"Can't divide by zero.\")\n",
    "\n",
    "try:\n",
    "    print(\"I think her name was + \" + name + \"?\")\n",
    "except NameError:\n",
    "    (\"Don't know that name...\")\n",
    "\n",
    "try:\n",
    "print(\"Your name is a nonsense number. Look: \" + int(\"Gabriel\"))\n",
    "\n",
    "print(\"You made it through the gauntlet--the message survived!\")"
   ]
  }
 ],
 "metadata": {
  "kernelspec": {
   "display_name": "Python 3",
   "language": "python",
   "name": "python3"
  },
  "language_info": {
   "codemirror_mode": {
    "name": "ipython",
    "version": 3
   },
   "file_extension": ".py",
   "mimetype": "text/x-python",
   "name": "python",
   "nbconvert_exporter": "python",
   "pygments_lexer": "ipython3",
   "version": "3.6.5"
  }
 },
 "nbformat": 4,
 "nbformat_minor": 2
}
