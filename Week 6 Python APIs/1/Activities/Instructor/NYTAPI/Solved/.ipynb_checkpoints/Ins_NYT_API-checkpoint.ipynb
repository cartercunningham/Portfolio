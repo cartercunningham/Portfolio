{
 "cells": [
  {
   "cell_type": "code",
   "execution_count": 2,
   "metadata": {},
   "outputs": [],
   "source": [
    "# Dependencies\n",
    "import requests\n",
    "from pprint import pprint\n",
    "from config import api_key\n",
    "\n",
    "url = \"https://api.nytimes.com/svc/search/v2/articlesearch.json?\""
   ]
  },
  {
   "cell_type": "code",
   "execution_count": 3,
   "metadata": {},
   "outputs": [],
   "source": [
    "# Search for articles that mention granola\n",
    "query = \"granola\""
   ]
  },
  {
   "cell_type": "code",
   "execution_count": 4,
   "metadata": {},
   "outputs": [],
   "source": [
    "# Build query URL\n",
    "query_url = url + \"api-key=\" + api_key + \"&q=\" + query"
   ]
  },
  {
   "cell_type": "code",
   "execution_count": 5,
   "metadata": {},
   "outputs": [
    {
     "ename": "KeyError",
     "evalue": "'response'",
     "output_type": "error",
     "traceback": [
      "\u001b[1;31m---------------------------------------------------------------------------\u001b[0m",
      "\u001b[1;31mKeyError\u001b[0m                                  Traceback (most recent call last)",
      "\u001b[1;32m<ipython-input-5-d60c8a41c1ed>\u001b[0m in \u001b[0;36m<module>\u001b[1;34m()\u001b[0m\n\u001b[0;32m      4\u001b[0m \u001b[1;31m# The \"response\" property in articles contains the actual articles\u001b[0m\u001b[1;33m\u001b[0m\u001b[1;33m\u001b[0m\u001b[0m\n\u001b[0;32m      5\u001b[0m \u001b[1;31m# list comprehension.\u001b[0m\u001b[1;33m\u001b[0m\u001b[1;33m\u001b[0m\u001b[0m\n\u001b[1;32m----> 6\u001b[1;33m \u001b[0marticles_list\u001b[0m \u001b[1;33m=\u001b[0m \u001b[1;33m[\u001b[0m\u001b[0marticle\u001b[0m \u001b[1;32mfor\u001b[0m \u001b[0marticle\u001b[0m \u001b[1;32min\u001b[0m \u001b[0marticles\u001b[0m\u001b[1;33m[\u001b[0m\u001b[1;34m\"response\"\u001b[0m\u001b[1;33m]\u001b[0m\u001b[1;33m[\u001b[0m\u001b[1;34m\"docs\"\u001b[0m\u001b[1;33m]\u001b[0m\u001b[1;33m]\u001b[0m\u001b[1;33m\u001b[0m\u001b[0m\n\u001b[0m\u001b[0;32m      7\u001b[0m \u001b[0mpprint\u001b[0m\u001b[1;33m(\u001b[0m\u001b[0marticles_list\u001b[0m\u001b[1;33m)\u001b[0m\u001b[1;33m\u001b[0m\u001b[0m\n",
      "\u001b[1;31mKeyError\u001b[0m: 'response'"
     ]
    }
   ],
   "source": [
    "# Request articles\n",
    "articles = requests.get(query_url).json()\n",
    "\n",
    "# The \"response\" property in articles contains the actual articles\n",
    "# list comprehension.\n",
    "articles_list = [article for article in articles[\"response\"][\"docs\"]]\n",
    "pprint(articles_list)"
   ]
  },
  {
   "cell_type": "code",
   "execution_count": 5,
   "metadata": {},
   "outputs": [
    {
     "name": "stdout",
     "output_type": "stream",
     "text": [
      "Your Reading List\n",
      "https://www.nytimes.com/2018/02/14/books/review/hippie-food-jonathan-kauffman.html\n",
      "https://www.nytimes.com/2016/08/30/well/eat/why-your-granola-is-really-a-dessert.html\n",
      "https://topics.nytimes.com/top/news/health/series/recipes_for_health/breakfast_grains/index.html\n",
      "https://www.nytimes.com/interactive/2016/09/02/well/09022016-health-quiz.html\n",
      "https://topics.nytimes.com/top/news/health/series/recipes_for_health/flaxseeds/index.html\n",
      "https://www.nytimes.com/2016/05/11/dining/granola-recipe-clusters-video.html\n",
      "https://www.nytimes.com/video/dining/100000004388480/granola-clusters.html\n",
      "https://cooking.nytimes.com/recipes/1018085-coconut-almond-cluster-granola\n",
      "https://topics.nytimes.com/top/news/health/series/recipes_for_health/substantial_pastries/index.html\n",
      "https://www.nytimes.com/interactive/2016/07/05/upshot/is-sushi-healthy-what-about-granola-where-americans-and-nutritionists-disagree.html\n"
     ]
    }
   ],
   "source": [
    "# Print the web_url of each stored article\n",
    "print(\"Your Reading List\")\n",
    "for article in articles_list:\n",
    "    print(article[\"web_url\"])"
   ]
  },
  {
   "cell_type": "code",
   "execution_count": null,
   "metadata": {
    "collapsed": true
   },
   "outputs": [],
   "source": []
  }
 ],
 "metadata": {
  "kernelspec": {
   "display_name": "Python 3",
   "language": "python",
   "name": "python3"
  },
  "language_info": {
   "codemirror_mode": {
    "name": "ipython",
    "version": 3
   },
   "file_extension": ".py",
   "mimetype": "text/x-python",
   "name": "python",
   "nbconvert_exporter": "python",
   "pygments_lexer": "ipython3",
   "version": "3.6.5"
  },
  "varInspector": {
   "cols": {
    "lenName": 16,
    "lenType": 16,
    "lenVar": 40
   },
   "kernels_config": {
    "python": {
     "delete_cmd_postfix": "",
     "delete_cmd_prefix": "del ",
     "library": "var_list.py",
     "varRefreshCmd": "print(var_dic_list())"
    },
    "r": {
     "delete_cmd_postfix": ") ",
     "delete_cmd_prefix": "rm(",
     "library": "var_list.r",
     "varRefreshCmd": "cat(var_dic_list()) "
    }
   },
   "types_to_exclude": [
    "module",
    "function",
    "builtin_function_or_method",
    "instance",
    "_Feature"
   ],
   "window_display": false
  }
 },
 "nbformat": 4,
 "nbformat_minor": 2
}
