{
 "cells": [
  {
   "cell_type": "code",
   "execution_count": 1,
   "metadata": {
    "collapsed": true
   },
   "outputs": [
    {
     "data": {
      "text/plain": [
       "{'Title': 'Aliens',\n",
       " 'Year': '1986',\n",
       " 'Rated': 'R',\n",
       " 'Released': '18 Jul 1986',\n",
       " 'Runtime': '137 min',\n",
       " 'Genre': 'Action, Adventure, Sci-Fi',\n",
       " 'Director': 'James Cameron',\n",
       " 'Writer': \"James Cameron (story by), David Giler (story by), Walter Hill (story by), Dan O'Bannon (based on characters created by), Ronald Shusett (based on characters created by), James Cameron (screenplay by)\",\n",
       " 'Actors': 'Sigourney Weaver, Carrie Henn, Michael Biehn, Paul Reiser',\n",
       " 'Plot': 'Ellen Ripley is rescued by a deep salvage team after being in hypersleep for 57 years. The moon that the Nostromo visited has been colonized, but contact is lost. This time, colonial marines have impressive firepower, but will that be enough?',\n",
       " 'Language': 'English',\n",
       " 'Country': 'USA',\n",
       " 'Awards': 'Won 2 Oscars. Another 18 wins & 22 nominations.',\n",
       " 'Poster': 'https://m.media-amazon.com/images/M/MV5BYzVlMWViZGEtYjEyYy00YWZmLThmZGEtYmM4MDZlN2Q5MmRmXkEyXkFqcGdeQXVyMTQxNzMzNDI@._V1_SX300.jpg',\n",
       " 'Ratings': [{'Source': 'Internet Movie Database', 'Value': '8.4/10'},\n",
       "  {'Source': 'Rotten Tomatoes', 'Value': '98%'},\n",
       "  {'Source': 'Metacritic', 'Value': '86/100'}],\n",
       " 'Metascore': '86',\n",
       " 'imdbRating': '8.4',\n",
       " 'imdbVotes': '569,800',\n",
       " 'imdbID': 'tt0090605',\n",
       " 'Type': 'movie',\n",
       " 'DVD': '01 Jun 1999',\n",
       " 'BoxOffice': 'N/A',\n",
       " 'Production': '20th Century Fox Film Corporat',\n",
       " 'Website': 'N/A',\n",
       " 'Response': 'True'}"
      ]
     },
     "execution_count": 1,
     "metadata": {},
     "output_type": "execute_result"
    }
   ],
   "source": [
    "# Dependencies\n",
    "import requests\n",
    "\n",
    "url = \"http://www.omdbapi.com/?apikey=trilogy&t=\"\n",
    "movie = requests.get(url + \"Aliens\").json()\n",
    "# movie"
   ]
  },
  {
   "cell_type": "code",
   "execution_count": 3,
   "metadata": {},
   "outputs": [
    {
     "name": "stdout",
     "output_type": "stream",
     "text": [
      " Aliens was directed by James Cameron\n"
     ]
    }
   ],
   "source": [
    "# Who was the director of the movie Aliens?\n",
    "print(f' Aliens was directed by {movie[\"Director\"]}')"
   ]
  },
  {
   "cell_type": "code",
   "execution_count": 7,
   "metadata": {
    "scrolled": true
   },
   "outputs": [
    {
     "name": "stdout",
     "output_type": "stream",
     "text": [
      "The rating of Gladiator was R.\n"
     ]
    }
   ],
   "source": [
    "# What was the movie Gladiator rated?\n",
    "movie = requests.get(url + \"Gladiator\").json()\n",
    "print(f'The rating of Gladiator was {movie[\"Rated\"]}.')"
   ]
  },
  {
   "cell_type": "code",
   "execution_count": 4,
   "metadata": {},
   "outputs": [],
   "source": [
    "# What year was 50 First Dates released?\n",
    "movie = requests.get(url + \"50 First Dates\").json()\n",
    "print(f'{movie[\"Title\"]} was released in {movie[\"Year\"]}.')"
   ]
  },
  {
   "cell_type": "code",
   "execution_count": 9,
   "metadata": {
    "scrolled": true
   },
   "outputs": [
    {
     "name": "stdout",
     "output_type": "stream",
     "text": [
      "Moana was written by Jared Bush (screenplay by), Ron Clements (story by), John Musker (story by), Chris Williams (story by), Don Hall (story by), Pamela Ribon (story by), Aaron Kandell (story by), Jordan Kandell (story by)\n"
     ]
    }
   ],
   "source": [
    "# Who wrote Moana?\n",
    "MovieReq = requests.get(url + \"Moana\").json()\n",
    "MovieReq\n",
    "\n",
    "print(f'Moana was written by {MovieReq[\"Writer\"]}')"
   ]
  },
  {
   "cell_type": "code",
   "execution_count": 5,
   "metadata": {
    "scrolled": true
   },
   "outputs": [
    {
     "name": "stdout",
     "output_type": "stream",
     "text": [
      "In a city of humanoid animals, a hustling theater impresario's attempt to save his theater with a singing competition becomes grander than he anticipates even as its finalists' find that their lives will never be the same.\n"
     ]
    }
   ],
   "source": [
    "# What was the plot of the movie Sing?\n",
    "print(requests.get(url+\"Sing\").json()[\"Plot\"])"
   ]
  },
  {
   "cell_type": "code",
   "execution_count": 12,
   "metadata": {},
   "outputs": [
    {
     "data": {
      "text/plain": [
       "dict_items([('Title', '50 First Dates'), ('Year', '2004'), ('Rated', 'PG-13'), ('Released', '13 Feb 2004'), ('Runtime', '99 min'), ('Genre', 'Comedy, Drama, Romance'), ('Director', 'Peter Segal'), ('Writer', 'George Wing'), ('Actors', 'Adam Sandler, Drew Barrymore, Rob Schneider, Sean Astin'), ('Plot', \"Henry Roth is a man afraid of commitment up until he meets the beautiful Lucy. They hit it off and Henry think he's finally found the girl of his dreams, until he discovers she has short-term memory loss and forgets him the very next day.\"), ('Language', 'English, Hawaiian, Mandarin, None'), ('Country', 'USA'), ('Awards', '6 wins & 10 nominations.'), ('Poster', 'https://m.media-amazon.com/images/M/MV5BMjAwMzc4MDgxNF5BMl5BanBnXkFtZTYwNjUwMzE3._V1_SX300.jpg'), ('Ratings', [{'Source': 'Internet Movie Database', 'Value': '6.8/10'}, {'Source': 'Rotten Tomatoes', 'Value': '44%'}, {'Source': 'Metacritic', 'Value': '48/100'}]), ('Metascore', '48'), ('imdbRating', '6.8'), ('imdbVotes', '292,946'), ('imdbID', 'tt0343660'), ('Type', 'movie'), ('DVD', '15 Jun 2004'), ('BoxOffice', '$120,776,832'), ('Production', 'Sony Pictures'), ('Website', 'http://www.sonypictures.com/movies/50firstdates/index.html'), ('Response', 'True')])"
      ]
     },
     "execution_count": 12,
     "metadata": {},
     "output_type": "execute_result"
    }
   ],
   "source": [
    "BASE = \"http://www.omdbapi.com/?t=\"\n",
    "api_key = \"&apikey=trilogy\"\n",
    "terribad_url = (BASE + \"50 First Dates\" + api_key)\n",
    "\n",
    "response = requests.get(terribad_url).json()\n",
    "# dir(response)\n",
    "response.items()\n",
    "# print(f'Adam Sandler\\'s greatest hit was released in {response[\"Year\"]}.')"
   ]
  }
 ],
 "metadata": {
  "kernelspec": {
   "display_name": "Python 3",
   "language": "python",
   "name": "python3"
  },
  "language_info": {
   "codemirror_mode": {
    "name": "ipython",
    "version": 3
   },
   "file_extension": ".py",
   "mimetype": "text/x-python",
   "name": "python",
   "nbconvert_exporter": "python",
   "pygments_lexer": "ipython3",
   "version": "3.6.5"
  },
  "varInspector": {
   "cols": {
    "lenName": 16,
    "lenType": 16,
    "lenVar": 40
   },
   "kernels_config": {
    "python": {
     "delete_cmd_postfix": "",
     "delete_cmd_prefix": "del ",
     "library": "var_list.py",
     "varRefreshCmd": "print(var_dic_list())"
    },
    "r": {
     "delete_cmd_postfix": ") ",
     "delete_cmd_prefix": "rm(",
     "library": "var_list.r",
     "varRefreshCmd": "cat(var_dic_list()) "
    }
   },
   "types_to_exclude": [
    "module",
    "function",
    "builtin_function_or_method",
    "instance",
    "_Feature"
   ],
   "window_display": false
  }
 },
 "nbformat": 4,
 "nbformat_minor": 2
}
