{
 "cells": [
  {
   "cell_type": "code",
   "execution_count": 1,
   "metadata": {},
   "outputs": [],
   "source": [
    "# Dependencies\n",
    "import requests\n",
    "\n",
    "url = \"http://www.omdbapi.com/?apikey=trilogy&t=\"\n",
    "\n",
    "movies = [\"Aliens\", \"Sing\", \"Moana\"]"
   ]
  },
  {
   "cell_type": "code",
   "execution_count": 2,
   "metadata": {},
   "outputs": [
    {
     "name": "stdout",
     "output_type": "stream",
     "text": [
      "['James Cameron', 'Garth Jennings, Christophe Lourdelet(co-director)', 'Ron Clements, John Musker, Don Hall(co-director), Chris Williams(co-director)']\n"
     ]
    }
   ],
   "source": [
    "# Save the responses in another list\n",
    "# Save the responses in another list\n",
    "movieDirectorList = []\n",
    "\n",
    "# Create Loop for Print the director of each movie\n",
    "for movie in movies:\n",
    "   movieURL = url + movie\n",
    "   movieDirectorList.append(requests.get(movieURL).json()[\"Director\"])\n",
    "print(movieDirectorList)\n",
    "# Create Loop for Print the director of each movie"
   ]
  },
  {
   "cell_type": "code",
   "execution_count": 3,
   "metadata": {},
   "outputs": [
    {
     "name": "stdout",
     "output_type": "stream",
     "text": [
      "Aliens Director: James Cameron\n",
      "Sing Director: Garth Jennings, Christophe Lourdelet(co-director)\n",
      "Moana Director: Ron Clements, John Musker, Don Hall(co-director), Chris Williams(co-director)\n"
     ]
    },
    {
     "data": {
      "text/plain": [
       "['James Cameron',\n",
       " 'Garth Jennings, Christophe Lourdelet(co-director)',\n",
       " 'Ron Clements, John Musker, Don Hall(co-director), Chris Williams(co-director)']"
      ]
     },
     "execution_count": 3,
     "metadata": {},
     "output_type": "execute_result"
    }
   ],
   "source": [
    "movie_list=[]\n",
    "for movie in movies:\n",
    "   response = requests.get(url + movie)\n",
    "   Director=response.json()[\"Director\"]\n",
    "   movie_list.append(Director)\n",
    "   print(movie+\" Director: \"+Director)\n",
    "   \n",
    "movie_list"
   ]
  },
  {
   "cell_type": "code",
   "execution_count": 4,
   "metadata": {},
   "outputs": [
    {
     "data": {
      "text/plain": [
       "['James Cameron',\n",
       " 'Garth Jennings, Christophe Lourdelet(co-director)',\n",
       " 'Ron Clements, John Musker, Don Hall(co-director), Chris Williams(co-director)']"
      ]
     },
     "execution_count": 4,
     "metadata": {},
     "output_type": "execute_result"
    }
   ],
   "source": [
    "directors = []\n",
    "for movie in movies:\n",
    "   directors.append(requests.get(url+movie).json()[\"Director\"])\n",
    "directors"
   ]
  },
  {
   "cell_type": "code",
   "execution_count": 5,
   "metadata": {},
   "outputs": [
    {
     "data": {
      "text/plain": [
       "['James Cameron',\n",
       " 'Garth Jennings, Christophe Lourdelet(co-director)',\n",
       " 'Ron Clements, John Musker, Don Hall(co-director), Chris Williams(co-director)']"
      ]
     },
     "execution_count": 5,
     "metadata": {},
     "output_type": "execute_result"
    }
   ],
   "source": [
    "directors = []\n",
    "[directors.append(requests.get(url+movie).json()[\"Director\"]) for movie in movies]\n",
    "directors"
   ]
  },
  {
   "cell_type": "code",
   "execution_count": null,
   "metadata": {},
   "outputs": [],
   "source": []
  }
 ],
 "metadata": {
  "kernelspec": {
   "display_name": "Python 3",
   "language": "python",
   "name": "python3"
  },
  "language_info": {
   "codemirror_mode": {
    "name": "ipython",
    "version": 3
   },
   "file_extension": ".py",
   "mimetype": "text/x-python",
   "name": "python",
   "nbconvert_exporter": "python",
   "pygments_lexer": "ipython3",
   "version": "3.6.5"
  },
  "varInspector": {
   "cols": {
    "lenName": 16,
    "lenType": 16,
    "lenVar": 40
   },
   "kernels_config": {
    "python": {
     "delete_cmd_postfix": "",
     "delete_cmd_prefix": "del ",
     "library": "var_list.py",
     "varRefreshCmd": "print(var_dic_list())"
    },
    "r": {
     "delete_cmd_postfix": ") ",
     "delete_cmd_prefix": "rm(",
     "library": "var_list.r",
     "varRefreshCmd": "cat(var_dic_list()) "
    }
   },
   "types_to_exclude": [
    "module",
    "function",
    "builtin_function_or_method",
    "instance",
    "_Feature"
   ],
   "window_display": false
  }
 },
 "nbformat": 4,
 "nbformat_minor": 2
}
