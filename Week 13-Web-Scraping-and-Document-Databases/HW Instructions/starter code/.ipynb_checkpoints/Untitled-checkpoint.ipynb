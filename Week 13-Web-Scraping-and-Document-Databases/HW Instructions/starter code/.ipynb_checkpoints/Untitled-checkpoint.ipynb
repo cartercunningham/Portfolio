{
 "cells": [
  {
   "cell_type": "code",
   "execution_count": null,
   "metadata": {},
   "outputs": [],
   "source": [
    "rom splinter import Browser\n",
    "from bs4 import BeautifulSoup\n",
    "import pandas as pd\n",
    "import datetime as dt\n",
    "\n"
   ]
  },
  {
   "cell_type": "code",
   "execution_count": null,
   "metadata": {},
   "outputs": [],
   "source": [
    "\n",
    "def scrape_all():\n",
    "\n",
    "    # Initiate headless driver for deployment; need to put chromedriver in this folder still or change address); need additional scrapes (e.g., featured_image)\n",
    "    browser = Browser(\"chrome\", executable_path=\"chromedriver\", headless=True)\n",
    "    news_title, news_paragraph = mars_news(browser)\n",
    "\n",
    "    \n",
    "    # Stop webdriver and return data\n",
    "    browser.quit()\n",
    "    # return data\n"
   ]
  },
  {
   "cell_type": "code",
   "execution_count": null,
   "metadata": {},
   "outputs": [],
   "source": [
    "def mars_news(browser):\n",
    "\n",
    "\n",
    "    # return news_title, news_p\n",
    "\n",
    "\n"
   ]
  },
  {
   "cell_type": "code",
   "execution_count": null,
   "metadata": {},
   "outputs": [],
   "source": [
    "def featured_image(browser):\n",
    "\n",
    "    # Find and click the full image button\n",
    "\n",
    "\n",
    "    try:\n",
    "       pass\n",
    "\n",
    "    except AttributeError:\n",
    "        pass\n",
    "\n",
    "    # Use the base url to create an absolute url\n",
    "   \n",
    "\n",
    "    # return img_url"
   ]
  },
  {
   "cell_type": "code",
   "execution_count": null,
   "metadata": {},
   "outputs": [],
   "source": [
    "def twitter_weather(browser):\n",
    "\n",
    "    # return mars_weather\n",
    "\n",
    "\n"
   ]
  },
  {
   "cell_type": "code",
   "execution_count": null,
   "metadata": {},
   "outputs": [],
   "source": [
    "def scrape_hemisphere(html_text):\n",
    "\n",
    "    # Soupify the html text\n",
    "    \n",
    "    # Try to get href and text except if error.\n",
    "    try:\n",
    "        pass\n",
    "\n",
    "    except AttributeError:\n",
    "        pass\n",
    "\n",
    "\n",
    "    # return hemisphere\n",
    "\n",
    "\n"
   ]
  },
  {
   "cell_type": "code",
   "execution_count": null,
   "metadata": {},
   "outputs": [],
   "source": [
    "def mars_facts():\n",
    "\n",
    "    try:\n",
    "        pass\n",
    "    except BaseException:\n",
    "        pass\n",
    "       \n",
    "    # Add some bootstrap styling to <table>\n",
    "    # return df\n",
    "\n",
    "\n"
   ]
  },
  {
   "cell_type": "code",
   "execution_count": null,
   "metadata": {},
   "outputs": [],
   "source": [
    "if __name__ == \"__main__\":\n",
    "\n",
    "    # If running as script, print scraped data\n",
    "    print(scrape_all())"
   ]
  }
 ],
 "metadata": {
  "kernelspec": {
   "display_name": "Python 3",
   "language": "python",
   "name": "python3"
  },
  "language_info": {
   "codemirror_mode": {
    "name": "ipython",
    "version": 3
   },
   "file_extension": ".py",
   "mimetype": "text/x-python",
   "name": "python",
   "nbconvert_exporter": "python",
   "pygments_lexer": "ipython3",
   "version": "3.6.6"
  }
 },
 "nbformat": 4,
 "nbformat_minor": 2
}
