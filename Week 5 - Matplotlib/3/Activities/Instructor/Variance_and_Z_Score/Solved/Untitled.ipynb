{
 "cells": [
  {
   "cell_type": "code",
   "execution_count": 1,
   "metadata": {},
   "outputs": [
    {
     "name": "stdout",
     "output_type": "stream",
     "text": [
      "2.0\n",
      "1.4142135623730951\n",
      "[(-2, -1.414213562373095), (-1, -0.7071067811865475), (0, 0.0), (1, 0.7071067811865475), (2, 1.414213562373095)]\n"
     ]
    }
   ],
   "source": [
    "from spread import variance, standard_deviation, zipped_z_scores\n",
    "from stats import mean"
   ]
  },
  {
   "cell_type": "code",
   "execution_count": 4,
   "metadata": {},
   "outputs": [
    {
     "name": "stdout",
     "output_type": "stream",
     "text": [
      " Mean A: 23.571428571428573 \n",
      " variance A: 1120.8163265306123 \n",
      " std  A: 33.47859505013035 \n",
      " z score A: [(3, -0.6144651094415766), (4, -0.5845952777326111), (5, -0.5547254460236456), (6, -0.5248556143146801), (7, -0.4949857826057145), (40, 0.49071866379014795), (100, 2.28290856632808)] \n"
     ]
    }
   ],
   "source": [
    "a = [3, 4, 5, 6, 7, 40, 100]  \n",
    "\n",
    "print(f' Mean A: { mean(a) } ')\n",
    "print(f' variance A: { variance(a) } ')\n",
    "print(f' std  A: { standard_deviation(a) } ')\n",
    "print(f' z score A: { zipped_z_scores(a) } ')"
   ]
  }
 ],
 "metadata": {
  "kernelspec": {
   "display_name": "Python 3",
   "language": "python",
   "name": "python3"
  },
  "language_info": {
   "codemirror_mode": {
    "name": "ipython",
    "version": 3
   },
   "file_extension": ".py",
   "mimetype": "text/x-python",
   "name": "python",
   "nbconvert_exporter": "python",
   "pygments_lexer": "ipython3",
   "version": "3.6.5"
  }
 },
 "nbformat": 4,
 "nbformat_minor": 2
}
