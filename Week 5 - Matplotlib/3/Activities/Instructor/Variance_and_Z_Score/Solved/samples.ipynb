{
 "cells": [
  {
   "cell_type": "code",
   "execution_count": 21,
   "metadata": {},
   "outputs": [],
   "source": [
    "# Dependencies\n",
    "from spread import variance, standard_deviation, zipped_z_scores\n",
    "from stats import mean"
   ]
  },
  {
   "cell_type": "code",
   "execution_count": 29,
   "metadata": {},
   "outputs": [
    {
     "name": "stdout",
     "output_type": "stream",
     "text": [
      "Mean of A: 141.9\n",
      "Variance of A: 82835.69\n",
      "Standard Dev A: 287.8119003793971\n",
      "Z-Score of A: [(30, -0.38879559827961274), (31, -0.38532110678471004), (31, -0.38532110678471004), (32, -0.38184661528980735), (32, -0.38184661528980735), (40, -0.3540506833305857), (41, -0.350576191835683), (41, -0.350576191835683), (141, -0.0031270423454124547), (1000, 2.9814611517760117)]\n"
     ]
    }
   ],
   "source": [
    "a = [30, 31, 31, 32, 32, 40, 41, 41, 141, 1000] \n",
    "# b = [-1525, -200, 5, 745, 1000]\n",
    "\n",
    "print(f'Mean of A: {mean(a)}')\n",
    "print(f'Variance of A: {variance(a)}')\n",
    "print(f'Standard Dev A: {standard_deviation(a)}')\n",
    "print(f'Z-Score of A: {zipped_z_scores(a)}')\n"
   ]
  },
  {
   "cell_type": "code",
   "execution_count": 2,
   "metadata": {},
   "outputs": [],
   "source": [
    "def summarize(title, arr):\n",
    "    print(f\"Summarizing {title}\")\n",
    "    print(f\"Variance: {variance(arr)}\")\n",
    "    print(f\"Standard Deviation: {standard_deviation(arr)}\")\n",
    "    print(\"Z-Scores: {zipped_z_scores(arr)}\")\n",
    "    print(\"======\")"
   ]
  },
  {
   "cell_type": "code",
   "execution_count": 3,
   "metadata": {},
   "outputs": [
    {
     "name": "stdout",
     "output_type": "stream",
     "text": [
      "Summarizing Prices\n",
      "Variance: 1177294.9599999997\n",
      "Standard Deviation: 1085.032239152367\n",
      "Z-Scores: {zipped_z_scores(arr)}\n",
      "======\n"
     ]
    }
   ],
   "source": [
    "# Prices of random electronics at Best Buy\n",
    "prices = [4, 425, 984, 2932, 49]\n",
    "summarize(\"Prices\", prices)"
   ]
  },
  {
   "cell_type": "code",
   "execution_count": 4,
   "metadata": {},
   "outputs": [
    {
     "name": "stdout",
     "output_type": "stream",
     "text": [
      "Summarizing Bootcamp Ages\n",
      "Variance: 72.55555555555556\n",
      "Standard Deviation: 8.517954892787092\n",
      "Z-Scores: {zipped_z_scores(arr)}\n",
      "======\n"
     ]
    }
   ],
   "source": [
    "# Ages of students in bootcamp\n",
    "bootcamp_classroom_ages = [27, 35, 42, 52, 36, 28]\n",
    "summarize(\"Bootcamp Ages\", bootcamp_classroom_ages)"
   ]
  },
  {
   "cell_type": "code",
   "execution_count": 5,
   "metadata": {},
   "outputs": [
    {
     "name": "stdout",
     "output_type": "stream",
     "text": [
      "Summarizing Birthday Party Ages\n",
      "Variance: 244.6938775510204\n",
      "Standard Deviation: 15.64269406307687\n",
      "Z-Scores: {zipped_z_scores(arr)}\n",
      "======\n"
     ]
    }
   ],
   "source": [
    "# Ages of children and parents at child's party\n",
    "birthday_party_ages = [6, 5, 6, 6, 35, 34, 42]\n",
    "summarize(\"Birthday Party Ages\", birthday_party_ages)"
   ]
  },
  {
   "cell_type": "code",
   "execution_count": 6,
   "metadata": {},
   "outputs": [
    {
     "name": "stdout",
     "output_type": "stream",
     "text": [
      "Summarizing Geograph Grades\n",
      "Variance: 8.0\n",
      "Standard Deviation: 2.8284271247461903\n",
      "Z-Scores: {zipped_z_scores(arr)}\n",
      "======\n"
     ]
    }
   ],
   "source": [
    "# Test score from a 2nd grade geography test\n",
    "geo_grades = [87, 89, 91, 93, 95]\n",
    "summarize(\"Geograph Grades\", geo_grades)"
   ]
  },
  {
   "cell_type": "code",
   "execution_count": 7,
   "metadata": {},
   "outputs": [
    {
     "name": "stdout",
     "output_type": "stream",
     "text": [
      "Summarizing Quantum Mechanics Grades\n",
      "Variance: 1006.1224489795917\n",
      "Standard Deviation: 31.71943330167788\n",
      "Z-Scores: {zipped_z_scores(arr)}\n",
      "======\n"
     ]
    }
   ],
   "source": [
    "# Test scores from a graduate quantum mechanics midterm\n",
    "quantum_grades = [63, 63, 98, 13, 58, 13, 8]\n",
    "summarize(\"Quantum Mechanics Grades\", quantum_grades)"
   ]
  },
  {
   "cell_type": "code",
   "execution_count": 8,
   "metadata": {},
   "outputs": [
    {
     "name": "stdout",
     "output_type": "stream",
     "text": [
      "Summarizing Prices\n",
      "Variance: 92039.55555555556\n",
      "Standard Deviation: 303.3802161571442\n",
      "Z-Scores: {zipped_z_scores(arr)}\n",
      "======\n"
     ]
    }
   ],
   "source": [
    "# Prices\n",
    "summarize(\"Prices\", [30, 31, 31, 32, 32, 40, 41, 41, 1000])"
   ]
  },
  {
   "cell_type": "code",
   "execution_count": null,
   "metadata": {},
   "outputs": [],
   "source": []
  }
 ],
 "metadata": {
  "kernelspec": {
   "display_name": "Python 3",
   "language": "python",
   "name": "python3"
  },
  "language_info": {
   "codemirror_mode": {
    "name": "ipython",
    "version": 3
   },
   "file_extension": ".py",
   "mimetype": "text/x-python",
   "name": "python",
   "nbconvert_exporter": "python",
   "pygments_lexer": "ipython3",
   "version": "3.6.5"
  }
 },
 "nbformat": 4,
 "nbformat_minor": 2
}
